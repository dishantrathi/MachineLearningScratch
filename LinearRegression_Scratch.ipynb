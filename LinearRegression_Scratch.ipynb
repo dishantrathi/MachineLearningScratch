{
  "nbformat": 4,
  "nbformat_minor": 0,
  "metadata": {
    "colab": {
      "name": "LinearRegression_Scratch.ipynb",
      "version": "0.3.2",
      "provenance": [],
      "collapsed_sections": []
    },
    "kernelspec": {
      "name": "python3",
      "display_name": "Python 3"
    }
  },
  "cells": [
    {
      "metadata": {
        "id": "VfnH8HvDZXX2",
        "colab_type": "code",
        "colab": {}
      },
      "cell_type": "code",
      "source": [
        "from statistics import mean\n",
        "import numpy as np\n",
        "import matplotlib.pyplot as plt\n",
        "from matplotlib import style\n",
        "\n",
        "style.use('ggplot')"
      ],
      "execution_count": 0,
      "outputs": []
    },
    {
      "metadata": {
        "id": "uU0E9TyDZuRp",
        "colab_type": "code",
        "colab": {
          "base_uri": "https://localhost:8080/",
          "height": 403
        },
        "outputId": "b382d63e-34b9-4983-8cf7-3ce804bb2aaf"
      },
      "cell_type": "code",
      "source": [
        "#DataSet\n",
        "\n",
        "xS = np.array([1,2,3,4,5,6], dtype=np.float64)\n",
        "yS = np.array([5,4,6,5,6,7], dtype=np.float64)\n",
        "\n",
        "print(xS.size)\n",
        "print(yS.size)\n",
        "\n",
        "plt.scatter(xS,yS)\n",
        "plt.show()"
      ],
      "execution_count": 93,
      "outputs": [
        {
          "output_type": "stream",
          "text": [
            "6\n",
            "6\n"
          ],
          "name": "stdout"
        },
        {
          "output_type": "display_data",
          "data": {
            "image/png": "[encoded data removed]",
            "text/plain": [
              "<matplotlib.figure.Figure at 0x7fa1dce906d8>"
            ]
          },
          "metadata": {
            "tags": []
          }
        }
      ]
    },
    {
      "metadata": {
        "id": "DMe0TFEManey",
        "colab_type": "code",
        "colab": {}
      },
      "cell_type": "code",
      "source": [
        "def bestFitSlope_intecept(xS,yS):\n",
        "  m = (((mean(xS)*mean(yS)) - mean(xS*yS)) /( (mean(xS)*mean(xS)) - (mean(xS*xS))))\n",
        "  b = mean(yS) - (m*mean(xS))\n",
        "  return m,b"
      ],
      "execution_count": 0,
      "outputs": []
    },
    {
      "metadata": {
        "id": "1P7Ls5msBG2K",
        "colab_type": "code",
        "colab": {}
      },
      "cell_type": "code",
      "source": [
        "def sq_error(yS_orig,yS_line):\n",
        "  return sum((yS_line - yS_orig)**2)"
      ],
      "execution_count": 0,
      "outputs": []
    },
    {
      "metadata": {
        "id": "_uyIGZHAB_Sk",
        "colab_type": "code",
        "colab": {}
      },
      "cell_type": "code",
      "source": [
        "def coefDet(yS_orig,yS_line):\n",
        "  y_mean_line = [mean(yS_orig) for y in yS_orig]\n",
        "  sqErrorRegr = sq_error(yS_orig,yS_line)\n",
        "  sqErrorYmean = sq_error(yS_orig,y_mean_line)\n",
        "  return 1 - (sqErrorRegr/sqErrorYmean)"
      ],
      "execution_count": 0,
      "outputs": []
    },
    {
      "metadata": {
        "id": "UDJfhR5vawd1",
        "colab_type": "code",
        "colab": {
          "base_uri": "https://localhost:8080/",
          "height": 34
        },
        "outputId": "15cc4bd8-0978-4160-9f56-ae76535ea2f6"
      },
      "cell_type": "code",
      "source": [
        "m,b = bestFitSlope_intecept(xS,yS)\n",
        "print(m,b)"
      ],
      "execution_count": 100,
      "outputs": [
        {
          "output_type": "stream",
          "text": [
            "0.42857142857142866 4.0\n"
          ],
          "name": "stdout"
        }
      ]
    },
    {
      "metadata": {
        "id": "v8liGUBSp9IG",
        "colab_type": "code",
        "colab": {
          "base_uri": "https://localhost:8080/",
          "height": 403
        },
        "outputId": "33b3f074-fdbb-4401-c6e3-5b1bf7298ee3"
      },
      "cell_type": "code",
      "source": [
        "style.use('fivethirtyeight')\n",
        "regressionLine = [(m*x) + b for x in xS]\n",
        "\n",
        "x = 8\n",
        "forecasting_data = (m*x)+b \n",
        "print(forecasting_data)\n",
        "\n",
        "r_sq = coefDet(yS,regressionLine)\n",
        "print(r_sq)\n",
        "\n",
        "plt.scatter(xS,yS)\n",
        "plt.plot(xS,regressionLine)\n",
        "plt.scatter(x, forecasting_data)\n",
        "plt.show()"
      ],
      "execution_count": 101,
      "outputs": [
        {
          "output_type": "stream",
          "text": [
            "7.428571428571429\n",
            "0.5844155844155845\n"
          ],
          "name": "stdout"
        },
        {
          "output_type": "display_data",
          "data": {
            "image/png": "[encoded data removed]",
            "text/plain": [
              "<matplotlib.figure.Figure at 0x7fa1dd058710>"
            ]
          },
          "metadata": {
            "tags": []
          }
        }
      ]
    }
  ]
}